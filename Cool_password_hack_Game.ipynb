{
  "nbformat": 4,
  "nbformat_minor": 0,
  "metadata": {
    "colab": {
      "provenance": [],
      "toc_visible": true
    },
    "kernelspec": {
      "name": "python3",
      "display_name": "Python 3"
    },
    "language_info": {
      "name": "python"
    }
  },
  "cells": [
    {
      "cell_type": "code",
      "source": [
        "print(\"You are a hacker and attempting to hack Robert's bank account\")\n",
        "print(\"                                                                   \")\n",
        "input(\"                 **press enter to continue** \")\n",
        "print(\"                                                                   \")\n",
        "print(\"You know he is 24 years old and like cats and work as an accountant\")\n",
        "print(\"                                                                   \")\n",
        "\n",
        "input(\"                ****press enter to continue****\")\n",
        "\n",
        "print (\"---Welcome to Catwest Security System---\")\n",
        "\n",
        "raw = input(\"Enter the Password: \")\n",
        "\n",
        "password=raw.lower()    # any input typed will become lower case\n",
        "                        # 'lower' is an in-built method\n",
        "attempt=0\n",
        "\n",
        "while password != 'bob':    # When password is 'bob' this will break\n",
        "   print(\"XXX-------Access denied-------XXX\")   # the while loop and then the next line\n",
        "   attempt+=1               # of code will play eg: print (\"Access granted\")\n",
        "\n",
        "\n",
        "   if attempt == 1:\n",
        "      print(\" $ Tip(It has 3 letters)\")\n",
        "\n",
        "   if attempt == 3:\n",
        "      print(\" $ Tip(Begins with a 'B')\")\n",
        "\n",
        "   if attempt == 5:\n",
        "      print(\" $ Tip( Relates to his name)\")\n",
        "\n",
        "   if attempt == 7:\n",
        "      print(\" $ Tip( Ends with a 'B')\")\n",
        "\n",
        "   if attempt == 8:\n",
        "       break\n",
        "\n",
        "   raw = input(\"Enter the Password: \")\n",
        "\n",
        "   password=raw.lower()\n",
        "\n",
        "if attempt !=8:\n",
        "   print(\"-----Congrats!!! Access granted-----\")\n",
        "   input(\"press enter to exit\")  # In theory you can click any button to exit\n",
        "\n",
        "else:\n",
        "   print(\"too many attempts, Good Byeeee.....!!\")\n",
        "   input(\"press enter to quit\")\n",
        ""
      ],
      "metadata": {
        "colab": {
          "base_uri": "https://localhost:8080/"
        },
        "id": "TAYGGbPZd8CZ",
        "outputId": "b0dcebb7-aa99-4e77-edb7-8ee6e022df4e"
      },
      "execution_count": 5,
      "outputs": [
        {
          "name": "stdout",
          "output_type": "stream",
          "text": [
            "You are a hacker and attempting to hack Robert's bank account\n",
            "                                                                   \n",
            "                 **press enter to continue** \n",
            "                                                                   \n",
            "You know he is 24 years old and like cats and work as an accountant\n",
            "                                                                   \n",
            "                ****press enter to continue****\n",
            "---Welcome to Catwest Security System---\n",
            "Enter the Password: ssd\n",
            "XXX-------Access denied-------XXX\n",
            " $ Tip(It has 3 letters)\n",
            "Enter the Password: tom\n",
            "XXX-------Access denied-------XXX\n",
            "Enter the Password: Bom\n",
            "XXX-------Access denied-------XXX\n",
            " $ Tip(Begins with a 'B')\n",
            "Enter the Password: hen\n",
            "XXX-------Access denied-------XXX\n",
            "Enter the Password: den\n",
            "XXX-------Access denied-------XXX\n",
            " $ Tip( Relates to his name)\n",
            "Enter the Password: Ben\n",
            "XXX-------Access denied-------XXX\n",
            "Enter the Password: eed\n",
            "XXX-------Access denied-------XXX\n",
            " $ Tip( Ends with a 'B')\n",
            "Enter the Password: Bob\n",
            "-----Congrats!!! Access granted-----\n",
            "press enter to exit\n"
          ]
        }
      ]
    }
  ]
}